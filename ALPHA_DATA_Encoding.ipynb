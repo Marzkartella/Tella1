{
  "nbformat": 4,
  "nbformat_minor": 0,
  "metadata": {
    "colab": {
      "provenance": [],
      "authorship_tag": "ABX9TyPzkeXNfvURBXAdlOOXDibB",
      "include_colab_link": true
    },
    "kernelspec": {
      "name": "python3",
      "display_name": "Python 3"
    },
    "language_info": {
      "name": "python"
    }
  },
  "cells": [
    {
      "cell_type": "markdown",
      "metadata": {
        "id": "view-in-github",
        "colab_type": "text"
      },
      "source": [
        "<a href=\"https://colab.research.google.com/github/Marzkartella/Tella1/blob/main/ALPHA_DATA_Encoding.ipynb\" target=\"_parent\"><img src=\"https://colab.research.google.com/assets/colab-badge.svg\" alt=\"Open In Colab\"/></a>"
      ]
    },
    {
      "cell_type": "code",
      "execution_count": null,
      "metadata": {
        "id": "Lo2BmAga6aXA"
      },
      "outputs": [],
      "source": [
        "import pandas as pd\n",
        "from sklearn.preprocessing import LabelEncoder"
      ]
    },
    {
      "cell_type": "code",
      "source": [
        "# File path\n",
        "file_path = \"/content/trial.csv\""
      ],
      "metadata": {
        "id": "rsM2pLfUn2c4"
      },
      "execution_count": null,
      "outputs": []
    },
    {
      "cell_type": "code",
      "source": [
        "# Load the data into a pandas DataFrame called 'data'\n",
        "data = pd.read_csv(file_path)"
      ],
      "metadata": {
        "id": "pbado5GN4jar"
      },
      "execution_count": null,
      "outputs": []
    },
    {
      "cell_type": "code",
      "source": [
        "# Initialize LabelEncoder\n",
        "label_encoder = LabelEncoder()"
      ],
      "metadata": {
        "id": "GYlAcuGQ3hKe"
      },
      "execution_count": null,
      "outputs": []
    },
    {
      "cell_type": "code",
      "source": [
        "# Apply Label Encoding to each categorical column\n",
        "data['Spam.mail'] = label_encoder.fit_transform(data['Spam.mail'])\n",
        "data['Colour'] = label_encoder.fit_transform(data['Colour'])\n",
        "data['Notification'] = label_encoder.fit_transform(data['Notification'])"
      ],
      "metadata": {
        "id": "9BNYXFdHn7wP"
      },
      "execution_count": null,
      "outputs": []
    },
    {
      "cell_type": "code",
      "source": [
        "print(data)"
      ],
      "metadata": {
        "colab": {
          "base_uri": "https://localhost:8080/"
        },
        "id": "zATTTw_r4s6L",
        "outputId": "3749c6da-e0d1-4d3e-a9fa-c5cc8eb8a7f9"
      },
      "execution_count": null,
      "outputs": [
        {
          "output_type": "stream",
          "name": "stdout",
          "text": [
            "   Spam.mail  Colour  Notification\n",
            "0          1       2             1\n",
            "1          1       1             0\n",
            "2          0       4             0\n",
            "3          1       0             1\n",
            "4          0       3             0\n"
          ]
        }
      ]
    },
    {
      "cell_type": "code",
      "source": [
        "# Sample dataset\n",
        "data = pd.DataFrame({'Letter': ['Yes', 'No'], 'Code': ['0', '1']})\n",
        "data2 = pd.DataFrame({'Color': ['Red', 'Green', 'Yellow', 'Blue', 'White'], 'Code': ['0', '1', '2', '3', '4']})\n",
        "\n",
        "# Encoding using ASCII values of the first character of each string\n",
        "data['Encoded'] = data['Letter'].apply(lambda x: ord(x[0])) # Accessing the first character using x[0]"
      ],
      "metadata": {
        "id": "8LQ14gBh8H3H"
      },
      "execution_count": null,
      "outputs": []
    },
    {
      "cell_type": "code",
      "source": [
        "print(data)\n",
        "print(data2)\n",
        "# Encoding using ASCII values of the first character\n",
        "# df['Encoded'] = df['Letter'].apply(lambda x: ord(x))\n",
        "\n",
        "print(data)"
      ],
      "metadata": {
        "colab": {
          "base_uri": "https://localhost:8080/"
        },
        "id": "7lb_d4oeoMk_",
        "outputId": "c7e10778-4ba7-416c-89ee-7b1c235cb522"
      },
      "execution_count": null,
      "outputs": [
        {
          "output_type": "stream",
          "name": "stdout",
          "text": [
            "  Letter Code  Encoded\n",
            "0    Yes    0       89\n",
            "1     No    1       78\n",
            "    Color Code\n",
            "0     Red    0\n",
            "1   Green    1\n",
            "2  Yellow    2\n",
            "3    Blue    3\n",
            "4   White    4\n",
            "  Letter Code  Encoded\n",
            "0    Yes    0       89\n",
            "1     No    1       78\n"
          ]
        }
      ]
    }
  ]
}